{
  "nbformat": 4,
  "nbformat_minor": 0,
  "metadata": {
    "colab": {
      "name": "HW2.ipynb",
      "provenance": [],
      "collapsed_sections": []
    },
    "kernelspec": {
      "name": "python3",
      "display_name": "Python 3"
    },
    "language_info": {
      "name": "python"
    }
  },
  "cells": [
    {
      "cell_type": "markdown",
      "metadata": {
        "id": "PlfFssIMd4z7"
      },
      "source": [
        "<center><h1>Collaborative Filtering</h1></center>\n",
        "<hr>\n",
        "\n",
        "Name: **Firas Jolha**\n",
        "\n",
        "Email: **f.jolha@innopolis.university**"
      ]
    },
    {
      "cell_type": "markdown",
      "metadata": {
        "id": "Tg8YBAMNePid"
      },
      "source": [
        "# Install & Import Libs"
      ]
    },
    {
      "cell_type": "code",
      "metadata": {
        "id": "wtd4ldoCeO6x"
      },
      "source": [
        ""
      ],
      "execution_count": null,
      "outputs": []
    },
    {
      "cell_type": "markdown",
      "metadata": {
        "id": "zyX9FjOveUmO"
      },
      "source": [
        "# Data Preparation"
      ]
    },
    {
      "cell_type": "markdown",
      "metadata": {
        "id": "wVVwIH7oeXFh"
      },
      "source": [
        "# Model "
      ]
    },
    {
      "cell_type": "markdown",
      "metadata": {
        "id": "BeHYdmlYeZS_"
      },
      "source": [
        "# Visualization"
      ]
    }
  ]
}