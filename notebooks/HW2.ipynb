{
  "nbformat": 4,
  "nbformat_minor": 0,
  "metadata": {
    "colab": {
      "name": "HW2.ipynb",
      "provenance": [],
      "collapsed_sections": [
        "Tg8YBAMNePid",
        "zyX9FjOveUmO",
        "RwmpXWI39Gui"
      ]
    },
    "kernelspec": {
      "name": "python3",
      "display_name": "Python 3"
    },
    "language_info": {
      "name": "python"
    }
  },
  "cells": [
    {
      "cell_type": "markdown",
      "metadata": {
        "id": "PlfFssIMd4z7"
      },
      "source": [
        "<center><h1>Collaborative Filtering</h1></center>\n",
        "<hr>\n",
        "\n",
        "Name: **Firas Jolha**\n",
        "\n",
        "Email: **f.jolha@innopolis.university**"
      ]
    },
    {
      "cell_type": "markdown",
      "metadata": {
        "id": "Tg8YBAMNePid"
      },
      "source": [
        "# Install & Import Libs"
      ]
    },
    {
      "cell_type": "code",
      "metadata": {
        "id": "Jxj02ByZoq2v"
      },
      "source": [
        "# !pip install wget"
      ],
      "execution_count": 1,
      "outputs": []
    },
    {
      "cell_type": "code",
      "metadata": {
        "id": "wtd4ldoCeO6x"
      },
      "source": [
        "import pandas as pd\n",
        "from scipy import sparse\n",
        "import torch\n",
        "from torch import nn\n",
        "from os.path import join as path_join\n",
        "import numpy as np"
      ],
      "execution_count": 52,
      "outputs": []
    },
    {
      "cell_type": "markdown",
      "metadata": {
        "id": "zyX9FjOveUmO"
      },
      "source": [
        "# Data Preparation & Exploration"
      ]
    },
    {
      "cell_type": "code",
      "metadata": {
        "colab": {
          "base_uri": "https://localhost:8080/",
          "height": 202
        },
        "id": "brotvfESoxOd",
        "outputId": "f9eed781-ff8b-46df-c728-c49b3c64b295"
      },
      "source": [
        "DATA_PATH = \"data\"\n",
        "DATA_PATH = \".\"\n",
        "\n",
        "train_df = pd.read_csv(path_join(DATA_PATH, \"train.csv\"))\n",
        "test_df = pd.read_csv(path_join(DATA_PATH, \"test.csv\"))\n",
        "train_df.head()\n"
      ],
      "execution_count": 3,
      "outputs": [
        {
          "output_type": "execute_result",
          "data": {
            "text/html": [
              "<div>\n",
              "<style scoped>\n",
              "    .dataframe tbody tr th:only-of-type {\n",
              "        vertical-align: middle;\n",
              "    }\n",
              "\n",
              "    .dataframe tbody tr th {\n",
              "        vertical-align: top;\n",
              "    }\n",
              "\n",
              "    .dataframe thead th {\n",
              "        text-align: right;\n",
              "    }\n",
              "</style>\n",
              "<table border=\"1\" class=\"dataframe\">\n",
              "  <thead>\n",
              "    <tr style=\"text-align: right;\">\n",
              "      <th></th>\n",
              "      <th>userId</th>\n",
              "      <th>movieId</th>\n",
              "      <th>rating</th>\n",
              "    </tr>\n",
              "  </thead>\n",
              "  <tbody>\n",
              "    <tr>\n",
              "      <th>0</th>\n",
              "      <td>1</td>\n",
              "      <td>32</td>\n",
              "      <td>3.5</td>\n",
              "    </tr>\n",
              "    <tr>\n",
              "      <th>1</th>\n",
              "      <td>1</td>\n",
              "      <td>47</td>\n",
              "      <td>3.5</td>\n",
              "    </tr>\n",
              "    <tr>\n",
              "      <th>2</th>\n",
              "      <td>1</td>\n",
              "      <td>50</td>\n",
              "      <td>3.5</td>\n",
              "    </tr>\n",
              "    <tr>\n",
              "      <th>3</th>\n",
              "      <td>1</td>\n",
              "      <td>253</td>\n",
              "      <td>4.0</td>\n",
              "    </tr>\n",
              "    <tr>\n",
              "      <th>4</th>\n",
              "      <td>1</td>\n",
              "      <td>260</td>\n",
              "      <td>4.0</td>\n",
              "    </tr>\n",
              "  </tbody>\n",
              "</table>\n",
              "</div>"
            ],
            "text/plain": [
              "   userId  movieId  rating\n",
              "0       1       32     3.5\n",
              "1       1       47     3.5\n",
              "2       1       50     3.5\n",
              "3       1      253     4.0\n",
              "4       1      260     4.0"
            ]
          },
          "metadata": {
            "tags": []
          },
          "execution_count": 3
        }
      ]
    },
    {
      "cell_type": "code",
      "metadata": {
        "colab": {
          "base_uri": "https://localhost:8080/"
        },
        "id": "GyOPgdCbpHAO",
        "outputId": "9ddc9f6e-ed74-4421-8b04-e4d74890c036"
      },
      "source": [
        "train_df.shape, test_df.shape"
      ],
      "execution_count": 4,
      "outputs": [
        {
          "output_type": "execute_result",
          "data": {
            "text/plain": [
              "((761972, 3), (190819, 3))"
            ]
          },
          "metadata": {
            "tags": []
          },
          "execution_count": 4
        }
      ]
    },
    {
      "cell_type": "code",
      "metadata": {
        "colab": {
          "base_uri": "https://localhost:8080/"
        },
        "id": "1sxecI4GyQaH",
        "outputId": "9effcb92-1577-4ad0-cae8-679db0da7208"
      },
      "source": [
        "user_ids = train_df['userId'].values\n",
        "movie_ids = train_df['movieId'].values\n",
        "ratings = train_df['rating'].values\n",
        "\n",
        "user_ids_index = train_df['userId'].value_counts().index\n",
        "movie_ids_index = train_df['movieId'].value_counts().index\n",
        "\n",
        "n_users = user_ids.size\n",
        "n_movies = movie_ids.size\n",
        "\n",
        "n_uq_users = user_ids_index.size\n",
        "n_uq_movies = movie_ids_index.size\n",
        "\n",
        "n_users, n_movies"
      ],
      "execution_count": 5,
      "outputs": [
        {
          "output_type": "execute_result",
          "data": {
            "text/plain": [
              "(761972, 761972)"
            ]
          },
          "metadata": {
            "tags": []
          },
          "execution_count": 5
        }
      ]
    },
    {
      "cell_type": "markdown",
      "metadata": {
        "id": "1sNY1y6DbNTo"
      },
      "source": [
        "Sparse Matrices"
      ]
    },
    {
      "cell_type": "code",
      "metadata": {
        "colab": {
          "base_uri": "https://localhost:8080/"
        },
        "id": "Z9CPjez-9Vu5",
        "outputId": "249f5593-e1db-40d1-abd9-1b4f0bc1b6ac"
      },
      "source": [
        "# Decomposition Rank\n",
        "k = 100\n",
        "\n",
        "# Initialize Weights\n",
        "weights_P = np.random.randn(n_uq_users, k)\n",
        "weights_Q = np.random.randn(n_uq_movies, k)\n",
        "\n",
        "P = sparse.coo_matrix(weights_P, shape = (n_uq_users, k), dtype = np.float)\n",
        "\n",
        "Q = sparse.coo_matrix(weights_Q, shape = (n_uq_movies, k), dtype = np.float)\n",
        "P = pd.DataFrame(weights_P, dtype = np.float, index = user_ids_index)\n",
        "Q = pd.DataFrame(weights_Q, dtype = np.float, index = movie_ids_index)\n",
        "# P = weights_P\n",
        "# Q = weights_Q\n",
        "P.shape, Q.shape"
      ],
      "execution_count": 38,
      "outputs": [
        {
          "output_type": "execute_result",
          "data": {
            "text/plain": [
              "((6687, 100), (5064, 100))"
            ]
          },
          "metadata": {
            "tags": []
          },
          "execution_count": 38
        }
      ]
    },
    {
      "cell_type": "code",
      "metadata": {
        "colab": {
          "base_uri": "https://localhost:8080/"
        },
        "id": "s27EMXiejZBS",
        "outputId": "c0bb0757-a9cd-41ec-f60a-9b6341ff690d"
      },
      "source": [
        "P"
      ],
      "execution_count": 32,
      "outputs": [
        {
          "output_type": "execute_result",
          "data": {
            "text/plain": [
              "array([[-0.01519227,  0.44863834, -1.09928889, ...,  0.02518814,\n",
              "        -1.74119015, -1.40046257],\n",
              "       [-0.52736529,  0.47732737,  1.10147088, ...,  0.7424214 ,\n",
              "        -0.25420814,  0.36318748],\n",
              "       [ 0.01367757, -1.17576227, -0.16411455, ...,  0.44520263,\n",
              "        -0.39921133,  1.23680781],\n",
              "       ...,\n",
              "       [-0.98215928,  0.45349029, -0.44175254, ..., -0.63477582,\n",
              "        -0.53858863,  0.02121637],\n",
              "       [ 0.4729324 , -0.3141085 ,  0.70537323, ..., -0.36737836,\n",
              "        -0.08216238,  1.45414548],\n",
              "       [-1.25852167,  0.98028937, -0.40581161, ...,  1.62713065,\n",
              "         0.46788803, -0.09443603]])"
            ]
          },
          "metadata": {
            "tags": []
          },
          "execution_count": 32
        }
      ]
    },
    {
      "cell_type": "code",
      "metadata": {
        "colab": {
          "base_uri": "https://localhost:8080/"
        },
        "id": "hwJub_U9bNHQ",
        "outputId": "305337c8-c877-4bee-af8f-4a22b91abbb4"
      },
      "source": [
        "R = sparse.coo_matrix(\n",
        "    (ratings, (user_ids, movie_ids)),\n",
        "    shape=(n_users, n_movies), \n",
        "    dtype=np.float\n",
        " )\n",
        "\n",
        "R"
      ],
      "execution_count": 33,
      "outputs": [
        {
          "output_type": "execute_result",
          "data": {
            "text/plain": [
              "<761972x761972 sparse matrix of type '<class 'numpy.float64'>'\n",
              "\twith 761972 stored elements in COOrdinate format>"
            ]
          },
          "metadata": {
            "tags": []
          },
          "execution_count": 33
        }
      ]
    },
    {
      "cell_type": "code",
      "metadata": {
        "colab": {
          "base_uri": "https://localhost:8080/"
        },
        "id": "nFvMMcOOdwBe",
        "outputId": "7d7dd363-d155-4b35-af7b-61deea54d5fc"
      },
      "source": [
        "# Step 1\n",
        "us_ids, mv_ids = R.nonzero()\n",
        "\n",
        "# Step 2\n",
        "aa = (P.loc[us_ids, :]).to_numpy()\n",
        "bb = (Q.loc[mv_ids, :]).to_numpy()\n",
        "\n",
        "# Step 3\n",
        "aa.shape, bb.shape\n",
        "mul = aa * bb\n",
        "print(mul.shape)\n",
        "# mul.shape\n",
        "R_hat = P @ Q.T\n",
        "\n",
        "# P.shape, np.max(us_ids)\n",
        "# P_tau = P[us_ids,:]\n",
        "# Q_tau = Q.loc[mv_ids, :]\n",
        "# P_tau * Q_tau.T\n",
        "# P_tau = P"
      ],
      "execution_count": 51,
      "outputs": [
        {
          "output_type": "stream",
          "text": [
            "(761972, 100)\n"
          ],
          "name": "stdout"
        }
      ]
    },
    {
      "cell_type": "code",
      "metadata": {
        "id": "NI-jaEZ-0g-f"
      },
      "source": [
        "df = pd.MultiIndex.from_product([user_ids, movie_ids], names = ['user_id', 'movie_id'])\n",
        "df"
      ],
      "execution_count": null,
      "outputs": []
    },
    {
      "cell_type": "code",
      "metadata": {
        "id": "H7f0iCAv_5Zj"
      },
      "source": [
        "df.shape"
      ],
      "execution_count": null,
      "outputs": []
    },
    {
      "cell_type": "code",
      "metadata": {
        "id": "U4xuV5T60y86"
      },
      "source": [
        "# pd.DataFrame(train_df, df)"
      ],
      "execution_count": null,
      "outputs": []
    },
    {
      "cell_type": "markdown",
      "metadata": {
        "id": "RwmpXWI39Gui"
      },
      "source": [
        "# Procedures"
      ]
    },
    {
      "cell_type": "code",
      "metadata": {
        "id": "EqSjEVGl9LFk"
      },
      "source": [
        "# Users\n",
        "def update_P(alpha):\n",
        "  M = np.ndarray((user_ids.size, movie_ids.size))\n",
        "  train_df\n",
        "  P = P - alpha * ()\n",
        "  pass\n",
        "\n",
        "\n",
        "# Movies\n",
        "def update_Q():\n",
        "  pass\n",
        "\n",
        "\n",
        "def als(P, Q, alpha = 0.01, iters = 100):\n",
        "  for iter in range(iters):\n",
        "\n",
        "    #Find gradient of P - Q fixed\n",
        "    #Adjust P\n",
        "\n",
        "    #Find gradient of Q - P fixed\n",
        "    #Adjust Q\n",
        "\n",
        "  pass\n"
      ],
      "execution_count": null,
      "outputs": []
    },
    {
      "cell_type": "markdown",
      "metadata": {
        "id": "wVVwIH7oeXFh"
      },
      "source": [
        "# Neural Collabrative Filtering Model"
      ]
    },
    {
      "cell_type": "code",
      "metadata": {
        "colab": {
          "base_uri": "https://localhost:8080/"
        },
        "id": "JPec6uGkyK89",
        "outputId": "ddedecda-368c-4bde-aa9c-74cab38e9257"
      },
      "source": [
        "class NCA(nn.Module):\n",
        "  def __init__(self):\n",
        "    super().__init__()\n",
        "    self.embed_user = nn.Embedding(n_uq_users, k) #, sparse=True\n",
        "    self.embed_item = nn.Embedding(n_uq_movies, k)\n",
        "    self.fc1 = nn.Linear(n_uq_movies + n_uq_users, 512)\n",
        "    self.dropout = nn.Dropout(0.2)\n",
        "    self.fc2 = nn.Linear(512, 64)\n",
        "    self.fc3 = nn.Linear(64, 32)\n",
        "    self.fc4 = nn.Linear(32, 8)\n",
        "    self.output = nn.Linear(8,  1)\n",
        "  \n",
        "  def forward(self, x):\n",
        "    users, items = x\n",
        "    users_x = self.embed_user(users)\n",
        "    items_x = self.embed_item(items)\n",
        "    print(users_x.shape)\n",
        "    print(movies_x.shape)\n",
        "    x = torch.cat((users_x, items_x))\n",
        "    print(x.shape)\n",
        "    return x\n",
        "\n",
        "  def string(self):\n",
        "    return f'NCA'\n",
        "\n",
        "\n",
        "# NCA()((torch.Tensor(user_ids_index), torch.Tensor(movie_ids_index)))\n",
        "# Do one-hot encoding\n",
        "torch.Tensor(user_ids_index).shape"
      ],
      "execution_count": 63,
      "outputs": [
        {
          "output_type": "execute_result",
          "data": {
            "text/plain": [
              "torch.Size([6687])"
            ]
          },
          "metadata": {
            "tags": []
          },
          "execution_count": 63
        }
      ]
    },
    {
      "cell_type": "markdown",
      "metadata": {
        "id": "BeHYdmlYeZS_"
      },
      "source": [
        "# Visualization"
      ]
    }
  ]
}